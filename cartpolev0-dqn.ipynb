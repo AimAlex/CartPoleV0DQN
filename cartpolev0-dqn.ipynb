{
 "cells": [
  {
   "cell_type": "code",
   "execution_count": null,
   "metadata": {},
   "outputs": [],
   "source": [
    "# Install our pip package in the current Jupyter kernel (DO NOT MODIFY)\n",
    "# 安装模型，不要修改\n",
    "import sys\n",
    "!PYTHONWARNINGS=ignore {sys.executable} -m pip install --disable-pip-version-check cartpolev0dqn"
   ]
  },
  {
   "cell_type": "code",
   "execution_count": null,
   "metadata": {},
   "outputs": [],
   "source": [
    "import cartpolev0dqn\n",
    "\n",
    "# 简单参数（修改部分）\n",
    "BATCH_SIZE = 4 # 批处理的大小\n",
    "EPISODE = 1000 # 训练轮次\n",
    "\n",
    "# 进阶参数（酌情修改）\n",
    "GAMMA = 0.9 # GAMMA值 \n",
    "INITIAL_EPSILON = 0.5 # 初始学习率\n",
    "FINAL_EPSILON = 0.01 # 最终学习率\n",
    "REPLAY_SIZE = 10000 # 经验回放集合大小\n",
    "\n",
    "# 创建模型\n",
    "model = cartpolev0dqn.model()"
   ]
  },
  {
   "cell_type": "code",
   "execution_count": null,
   "metadata": {},
   "outputs": [],
   "source": [
    "# TRAINING\n",
    "# 训练部分\n",
    "model.train(GAMMA, INITIAL_EPSILON, FINAL_EPSILON, BATCH_SIZE, REPLAY_SIZE, EPISODE)"
   ]
  },
  {
   "cell_type": "code",
   "execution_count": null,
   "metadata": {},
   "outputs": [],
   "source": [
    "# TEST\n",
    "# 测试部分\n",
    "model.test(isDisplay=True)"
   ]
  }
 ],
 "metadata": {
  "kernelspec": {
   "display_name": "Python 2",
   "language": "python",
   "name": "python2"
  },
  "language_info": {
   "codemirror_mode": {
    "name": "ipython",
    "version": 2
   },
   "file_extension": ".py",
   "mimetype": "text/x-python",
   "name": "python",
   "nbconvert_exporter": "python",
   "pygments_lexer": "ipython2",
   "version": "2.7.18"
  }
 },
 "nbformat": 4,
 "nbformat_minor": 2
}